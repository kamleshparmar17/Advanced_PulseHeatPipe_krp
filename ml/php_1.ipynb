{
 "cells": [
  {
   "cell_type": "code",
   "execution_count": 1,
   "metadata": {},
   "outputs": [],
   "source": [
    "\n",
    "from pipelines.data_ingestion_pipe import data_ingestion_pipeline"
   ]
  },
  {
   "cell_type": "code",
   "execution_count": 4,
   "metadata": {},
   "outputs": [],
   "source": [
    "# !zenml init\n",
    "# !zenml stack set default"
   ]
  },
  {
   "cell_type": "code",
   "execution_count": null,
   "metadata": {},
   "outputs": [],
   "source": []
  },
  {
   "cell_type": "code",
   "execution_count": 2,
   "metadata": {},
   "outputs": [
    {
     "name": "stdout",
     "output_type": "stream",
     "text": [
      "\u001b[1;35mInitiating a new run for the pipeline: \u001b[0m\u001b[1;36mdata_ingestion_pipeline\u001b[1;35m.\u001b[0m\n",
      "\u001b[1;35mReusing registered pipeline version: \u001b[0m\u001b[1;36m(version: 1)\u001b[1;35m.\u001b[0m\n",
      "\u001b[1;35mExecuting a new run.\u001b[0m\n",
      "\u001b[1;35mCaching is disabled by default for \u001b[0m\u001b[1;36mdata_ingestion_pipeline\u001b[1;35m.\u001b[0m\n",
      "\u001b[1;35mUsing user: \u001b[0m\u001b[1;36mdefault\u001b[1;35m\u001b[0m\n",
      "\u001b[1;35mUsing stack: \u001b[0m\u001b[1;36mdefault\u001b[1;35m\u001b[0m\n",
      "\u001b[1;35m  artifact_store: \u001b[0m\u001b[1;36mdefault\u001b[1;35m\u001b[0m\n",
      "\u001b[1;35m  orchestrator: \u001b[0m\u001b[1;36mdefault\u001b[1;35m\u001b[0m\n",
      "\u001b[1;35mYou can visualize your pipeline runs in the \u001b[0m\u001b[1;36mZenML Dashboard\u001b[1;35m. In order to try it locally, please run \u001b[0m\u001b[1;36mzenml up\u001b[1;35m.\u001b[0m\n",
      "\u001b[1;35mStep \u001b[0m\u001b[1;36mstep_data_ingestion\u001b[1;35m has started.\u001b[0m\n",
      "\u001b[1;35mStep \u001b[0m\u001b[1;36mstep_data_ingestion\u001b[1;35m has finished in \u001b[0m\u001b[1;36m0.756s\u001b[1;35m.\u001b[0m\n",
      "\u001b[1;35mStep \u001b[0m\u001b[1;36mstep_electrical_data_cleaning\u001b[1;35m has started.\u001b[0m\n",
      "\u001b[1;35mStep \u001b[0m\u001b[1;36mstep_electrical_data_cleaning\u001b[1;35m has finished in \u001b[0m\u001b[1;36m0.388s\u001b[1;35m.\u001b[0m\n",
      "\u001b[1;35mStep \u001b[0m\u001b[1;36mstep_thermal_data_cleaning\u001b[1;35m has started.\u001b[0m\n",
      "\u001b[1;35mStep \u001b[0m\u001b[1;36mstep_thermal_data_cleaning\u001b[1;35m has finished in \u001b[0m\u001b[1;36m0.214s\u001b[1;35m.\u001b[0m\n",
      "\u001b[1;35mStep \u001b[0m\u001b[1;36mstep_data_join\u001b[1;35m has started.\u001b[0m\n",
      "\u001b[33mFailed to save visualization for output artifact 'Joined Data': Cannot describe a DataFrame without columns\u001b[0m\n",
      "\u001b[1;35mStep \u001b[0m\u001b[1;36mstep_data_join\u001b[1;35m has finished in \u001b[0m\u001b[1;36m3.565s\u001b[1;35m.\u001b[0m\n",
      "\u001b[1;35mPipeline run has finished in \u001b[0m\u001b[1;36m5.058s\u001b[1;35m.\u001b[0m\n"
     ]
    },
    {
     "data": {
      "text/plain": [
       "PipelineRunResponse(body=PipelineRunResponseBody(created=datetime.datetime(2024, 6, 25, 17, 2, 5, 935475), updated=datetime.datetime(2024, 6, 25, 17, 2, 5, 935476), user=UserResponse(body=UserResponseBody(created=datetime.datetime(2024, 4, 20, 15, 40, 21, 431102), updated=datetime.datetime(2024, 4, 20, 15, 40, 21, 431104), active=True, activation_token=None, full_name='', email_opted_in=None, is_service_account=False, is_admin=True), metadata=None, resources=None, id=UUID('3a83a8c5-1f1c-44eb-a17f-c0cd414147d1'), permission_denied=False, name='default'), status=<ExecutionStatus.INITIALIZING: 'initializing'>, stack=StackResponse(body=StackResponseBody(created=datetime.datetime(2024, 4, 20, 15, 40, 20, 993137), updated=datetime.datetime(2024, 4, 20, 15, 40, 20, 993137), user=None), metadata=None, resources=None, id=UUID('8b2d75d6-14de-474a-9651-5a34bd521e2c'), permission_denied=False, name='default'), pipeline=PipelineResponse(body=PipelineResponseBody(created=datetime.datetime(2024, 6, 23, 16, 3, 16, 151628), updated=datetime.datetime(2024, 6, 23, 16, 3, 16, 151629), user=UserResponse(body=UserResponseBody(created=datetime.datetime(2024, 4, 20, 15, 40, 21, 431102), updated=datetime.datetime(2024, 4, 20, 15, 40, 21, 431104), active=True, activation_token=None, full_name='', email_opted_in=None, is_service_account=False, is_admin=True), metadata=None, resources=None, id=UUID('3a83a8c5-1f1c-44eb-a17f-c0cd414147d1'), permission_denied=False, name='default'), status=[<ExecutionStatus.FAILED: 'failed'>, <ExecutionStatus.COMPLETED: 'completed'>, <ExecutionStatus.INITIALIZING: 'initializing'>], version='1'), metadata=None, resources=None, id=UUID('1b16a449-cebc-48e1-9e6b-7897944ddae4'), permission_denied=False, name='data_ingestion_pipeline'), build=None, schedule=None, code_reference=None, deployment_id=UUID('b718ce63-75dc-43f2-8e16-e97e1f5ff5dc'), trigger_execution=None), metadata=PipelineRunResponseMetadata(workspace=WorkspaceResponse(body=WorkspaceResponseBody(created=datetime.datetime(2024, 4, 20, 15, 40, 20, 981133), updated=datetime.datetime(2024, 4, 20, 15, 40, 20, 981134)), metadata=None, resources=None, id=UUID('0d536f95-116e-40c3-b66a-1de349401a30'), permission_denied=False, name='default'), run_metadata={}, steps={}, config=PipelineConfiguration(enable_cache=False, enable_artifact_metadata=None, enable_artifact_visualization=None, enable_step_logs=None, settings={}, extra={}, failure_hook_source=None, success_hook_source=None, model=None, parameters=None, name='data_ingestion_pipeline'), start_time=datetime.datetime(2024, 6, 25, 17, 2, 5, 933949), end_time=None, client_environment={'environment': 'notebook', 'os': 'mac', 'mac_version': '14.5', 'python_version': '3.11.2'}, orchestrator_environment={}, orchestrator_run_id=None), resources=None, id=UUID('530cb69b-de23-4894-a531-130daa95a844'), permission_denied=False, name='data_ingestion_pipeline-2024_06_25-17_02_05_933944')"
      ]
     },
     "execution_count": 2,
     "metadata": {},
     "output_type": "execute_result"
    }
   ],
   "source": [
    "data_ingestion_pipeline(path='../data/PHP_E_60FR_100W_90A_0B.csv')"
   ]
  },
  {
   "cell_type": "code",
   "execution_count": null,
   "metadata": {},
   "outputs": [],
   "source": []
  }
 ],
 "metadata": {
  "kernelspec": {
   "display_name": ".venv",
   "language": "python",
   "name": "python3"
  },
  "language_info": {
   "codemirror_mode": {
    "name": "ipython",
    "version": 3
   },
   "file_extension": ".py",
   "mimetype": "text/x-python",
   "name": "python",
   "nbconvert_exporter": "python",
   "pygments_lexer": "ipython3",
   "version": "3.11.2"
  }
 },
 "nbformat": 4,
 "nbformat_minor": 2
}
